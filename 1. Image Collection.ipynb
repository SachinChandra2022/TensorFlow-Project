{
 "cells": [
  {
   "cell_type": "markdown",
   "metadata": {},
   "source": [
    "# 1. Import Dependencies"
   ]
  },
  {
   "cell_type": "code",
   "execution_count": 1,
   "metadata": {},
   "outputs": [
    {
     "name": "stdout",
     "output_type": "stream",
     "text": [
      "Requirement already satisfied: opencv-python in d:\\projects\\tensorflow object detection\\tfodcourse\\object_detection\\lib\\site-packages (4.8.1.78)\n",
      "Requirement already satisfied: numpy>=1.21.2 in d:\\projects\\tensorflow object detection\\tfodcourse\\object_detection\\lib\\site-packages (from opencv-python) (1.26.2)\n"
     ]
    }
   ],
   "source": [
    "!pip install opencv-python"
   ]
  },
  {
   "cell_type": "code",
   "execution_count": 2,
   "metadata": {},
   "outputs": [],
   "source": [
    "# Import opencv\n",
    "import cv2 \n",
    "\n",
    "# Import uuid\n",
    "import uuid\n",
    "\n",
    "# Import Operating System\n",
    "import os\n",
    "\n",
    "# Import time\n",
    "import time"
   ]
  },
  {
   "cell_type": "markdown",
   "metadata": {},
   "source": [
    "# 2. Define Images to Collect"
   ]
  },
  {
   "cell_type": "code",
   "execution_count": 3,
   "metadata": {},
   "outputs": [],
   "source": [
    "labels = ['Thumbsup', 'Thumbsdown', 'Hello', 'Fistbump']\n",
    "number_imgs = 10"
   ]
  },
  {
   "cell_type": "markdown",
   "metadata": {},
   "source": [
    "# 3. Setup Folders "
   ]
  },
  {
   "cell_type": "code",
   "execution_count": 4,
   "metadata": {},
   "outputs": [],
   "source": [
    "IMAGES_PATH = os.path.join('Tensorflow', 'workspace', 'images', 'collectedimages')"
   ]
  },
  {
   "cell_type": "code",
   "execution_count": 5,
   "metadata": {},
   "outputs": [],
   "source": [
    "if not os.path.exists(IMAGES_PATH):\n",
    "    if os.name == 'posix':\n",
    "        !mkdir -p {IMAGES_PATH}\n",
    "    if os.name == 'nt':\n",
    "         !mkdir {IMAGES_PATH}\n",
    "for label in labels:\n",
    "    path = os.path.join(IMAGES_PATH, label)\n",
    "    if not os.path.exists(path):\n",
    "        !mkdir {path}"
   ]
  },
  {
   "cell_type": "markdown",
   "metadata": {},
   "source": [
    "# 4. Capture Images"
   ]
  },
  {
   "cell_type": "code",
   "execution_count": 6,
   "metadata": {},
   "outputs": [
    {
     "name": "stdout",
     "output_type": "stream",
     "text": [
      "Collecting images for Thumbsup\n",
      "Collecting image 0\n",
      "Collecting image 1\n",
      "Collecting image 2\n",
      "Collecting image 3\n",
      "Collecting image 4\n",
      "Collecting image 5\n",
      "Collecting image 6\n",
      "Collecting image 7\n",
      "Collecting image 8\n",
      "Collecting image 9\n",
      "Collecting images for Thumbsdown\n",
      "Collecting image 0\n",
      "Collecting image 1\n",
      "Collecting image 2\n",
      "Collecting image 3\n",
      "Collecting image 4\n",
      "Collecting image 5\n",
      "Collecting image 6\n",
      "Collecting image 7\n",
      "Collecting image 8\n",
      "Collecting image 9\n",
      "Collecting images for Hello\n",
      "Collecting image 0\n",
      "Collecting image 1\n",
      "Collecting image 2\n",
      "Collecting image 3\n",
      "Collecting image 4\n",
      "Collecting image 5\n",
      "Collecting image 6\n",
      "Collecting image 7\n",
      "Collecting image 8\n",
      "Collecting image 9\n",
      "Collecting images for Fistbump\n",
      "Collecting image 0\n",
      "Collecting image 1\n",
      "Collecting image 2\n",
      "Collecting image 3\n",
      "Collecting image 4\n",
      "Collecting image 5\n",
      "Collecting image 6\n",
      "Collecting image 7\n",
      "Collecting image 8\n",
      "Collecting image 9\n"
     ]
    }
   ],
   "source": [
    "for label in labels:\n",
    "    cap = cv2.VideoCapture(0)\n",
    "    print('Collecting images for {}'.format(label))\n",
    "    time.sleep(5)\n",
    "    for imgnum in range(number_imgs):\n",
    "        print('Collecting image {}'.format(imgnum))\n",
    "        ret, frame = cap.read()\n",
    "        imgname = os.path.join(IMAGES_PATH,label,label+'.'+'{}.jpg'.format(str(uuid.uuid1())))\n",
    "        cv2.imwrite(imgname, frame)\n",
    "        cv2.imshow('frame', frame)\n",
    "        time.sleep(4)\n",
    "\n",
    "        if cv2.waitKey(1) & 0xFF == ord('q'):\n",
    "            break\n",
    "cap.release()\n",
    "cv2.destroyAllWindows()"
   ]
  },
  {
   "cell_type": "markdown",
   "metadata": {},
   "source": [
    "# 5. Image Labelling"
   ]
  },
  {
   "cell_type": "code",
   "execution_count": 7,
   "metadata": {},
   "outputs": [
    {
     "name": "stdout",
     "output_type": "stream",
     "text": [
      "Requirement already satisfied: pyqt5 in d:\\projects\\tensorflow object detection\\tfodcourse\\object_detection\\lib\\site-packages (5.15.10)\n",
      "Requirement already satisfied: lxml in d:\\projects\\tensorflow object detection\\tfodcourse\\object_detection\\lib\\site-packages (4.9.3)\n",
      "Requirement already satisfied: PyQt5-sip<13,>=12.13 in d:\\projects\\tensorflow object detection\\tfodcourse\\object_detection\\lib\\site-packages (from pyqt5) (12.13.0)\n",
      "Requirement already satisfied: PyQt5-Qt5>=5.15.2 in d:\\projects\\tensorflow object detection\\tfodcourse\\object_detection\\lib\\site-packages (from pyqt5) (5.15.2)\n"
     ]
    },
    {
     "name": "stderr",
     "output_type": "stream",
     "text": [
      "WARNING: Retrying (Retry(total=4, connect=None, read=None, redirect=None, status=None)) after connection broken by 'ReadTimeoutError(\"HTTPSConnectionPool(host='pypi.org', port=443): Read timed out. (read timeout=15)\")': /simple/pyqt5/\n",
      "WARNING: Retrying (Retry(total=3, connect=None, read=None, redirect=None, status=None)) after connection broken by 'ReadTimeoutError(\"HTTPSConnectionPool(host='pypi.org', port=443): Read timed out. (read timeout=15)\")': /simple/pyqt5/\n",
      "WARNING: Retrying (Retry(total=2, connect=None, read=None, redirect=None, status=None)) after connection broken by 'ReadTimeoutError(\"HTTPSConnectionPool(host='pypi.org', port=443): Read timed out. (read timeout=15)\")': /simple/pyqt5/\n"
     ]
    }
   ],
   "source": [
    "!pip install --upgrade pyqt5 lxml"
   ]
  },
  {
   "cell_type": "code",
   "execution_count": 17,
   "metadata": {},
   "outputs": [],
   "source": [
    "LABELING_PATH = os.path.join('Tensorflow', 'labeling')"
   ]
  },
  {
   "cell_type": "code",
   "execution_count": 18,
   "metadata": {},
   "outputs": [],
   "source": [
    "if not os.path.exists(LABELIMG_PATH):\n",
    "    !mkdir {LABELING_PATH}\n",
    "    !git clone https://github.com/tzutalin/labelIng {LABELING_PATH}"
   ]
  },
  {
   "cell_type": "code",
   "execution_count": 19,
   "metadata": {},
   "outputs": [],
   "source": [
    "if os.name == 'posix':\n",
    "    !make qt5py3\n",
    "if os.name =='nt':\n",
    "    !cd {LABELING_PATH} && pyrcc5 -o libs/resources.py resources.qrc"
   ]
  },
  {
   "cell_type": "code",
   "execution_count": 20,
   "metadata": {},
   "outputs": [
    {
     "name": "stderr",
     "output_type": "stream",
     "text": [
      "C:\\Users\\Sachin Chandra\\AppData\\Local\\Programs\\Python\\Python310\\python.exe: can't open file 'D:\\\\Projects\\\\Tensorflow object detection\\\\TFODCourse\\\\Tensorflow\\\\labeling\\\\labelIng.py': [Errno 2] No such file or directory\n",
      "Cloning into 'Tensorflow\\labelimg'...\n"
     ]
    },
    {
     "name": "stdout",
     "output_type": "stream",
     "text": [
      "Cancel creation.\n",
      "Image:D:\\Projects\\Tensorflow object detection\\TFODCourse\\Tensorflow\\workspace\\images\\collectedimages\\Fistbump\\Fistbump.1c343bc5-82ed-11ee-a287-38d57a361d64.jpg -> Annotation:D:/Projects/Tensorflow object detection/TFODCourse/Tensorflow/workspace/images/collectedimages/Fistbump\\Fistbump.1c343bc5-82ed-11ee-a287-38d57a361d64.xml\n",
      "Image:D:\\Projects\\Tensorflow object detection\\TFODCourse\\Tensorflow\\workspace\\images\\collectedimages\\Fistbump\\Fistbump.2835ba15-82ed-11ee-aeec-38d57a361d64.jpg -> Annotation:D:/Projects/Tensorflow object detection/TFODCourse/Tensorflow/workspace/images/collectedimages/Fistbump\\Fistbump.2835ba15-82ed-11ee-aeec-38d57a361d64.xml\n",
      "Image:D:\\Projects\\Tensorflow object detection\\TFODCourse\\Tensorflow\\workspace\\images\\collectedimages\\Fistbump\\Fistbump.1e9ae9f9-82ed-11ee-8c06-38d57a361d64.jpg -> Annotation:D:/Projects/Tensorflow object detection/TFODCourse/Tensorflow/workspace/images/collectedimages/Fistbump\\Fistbump.1e9ae9f9-82ed-11ee-8c06-38d57a361d64.xml\n",
      "Image:D:\\Projects\\Tensorflow object detection\\TFODCourse\\Tensorflow\\workspace\\images\\collectedimages\\Fistbump\\Fistbump.19ce7759-82ed-11ee-b520-38d57a361d64.jpg -> Annotation:D:/Projects/Tensorflow object detection/TFODCourse/Tensorflow/workspace/images/collectedimages/Fistbump\\Fistbump.19ce7759-82ed-11ee-b520-38d57a361d64.xml\n",
      "Image:D:\\Projects\\Tensorflow object detection\\TFODCourse\\Tensorflow\\workspace\\images\\collectedimages\\Fistbump\\Fistbump.25cdd307-82ed-11ee-8ffc-38d57a361d64.jpg -> Annotation:D:/Projects/Tensorflow object detection/TFODCourse/Tensorflow/workspace/images/collectedimages/Fistbump\\Fistbump.25cdd307-82ed-11ee-8ffc-38d57a361d64.xml\n",
      "Image:D:\\Projects\\Tensorflow object detection\\TFODCourse\\Tensorflow\\workspace\\images\\collectedimages\\Fistbump\\Fistbump.12984fd6-82ed-11ee-b478-38d57a361d64.jpg -> Annotation:D:/Projects/Tensorflow object detection/TFODCourse/Tensorflow/workspace/images/collectedimages/Fistbump\\Fistbump.12984fd6-82ed-11ee-b478-38d57a361d64.xml\n",
      "Image:D:\\Projects\\Tensorflow object detection\\TFODCourse\\Tensorflow\\workspace\\images\\collectedimages\\Fistbump\\Fistbump.17669f8f-82ed-11ee-9d7d-38d57a361d64.jpg -> Annotation:D:/Projects/Tensorflow object detection/TFODCourse/Tensorflow/workspace/images/collectedimages/Fistbump\\Fistbump.17669f8f-82ed-11ee-9d7d-38d57a361d64.xml\n",
      "Image:D:\\Projects\\Tensorflow object detection\\TFODCourse\\Tensorflow\\workspace\\images\\collectedimages\\Fistbump\\Fistbump.2102800b-82ed-11ee-a5e9-38d57a361d64.jpg -> Annotation:D:/Projects/Tensorflow object detection/TFODCourse/Tensorflow/workspace/images/collectedimages/Fistbump\\Fistbump.2102800b-82ed-11ee-a5e9-38d57a361d64.xml\n",
      "Image:D:\\Projects\\Tensorflow object detection\\TFODCourse\\Tensorflow\\workspace\\images\\collectedimages\\Fistbump\\Fistbump.15012528-82ed-11ee-b103-38d57a361d64.jpg -> Annotation:D:/Projects/Tensorflow object detection/TFODCourse/Tensorflow/workspace/images/collectedimages/Fistbump\\Fistbump.15012528-82ed-11ee-b103-38d57a361d64.xml\n",
      "Image:D:\\Projects\\Tensorflow object detection\\TFODCourse\\Tensorflow\\workspace\\images\\collectedimages\\Hello\\Hello.02b44c61-82ed-11ee-8bee-38d57a361d64.jpg -> Annotation:D:/Projects/Tensorflow object detection/TFODCourse/Tensorflow/workspace/images/collectedimages/Hello\\Hello.02b44c61-82ed-11ee-8bee-38d57a361d64.xml\n",
      "Image:D:\\Projects\\Tensorflow object detection\\TFODCourse\\Tensorflow\\workspace\\images\\collectedimages\\Hello\\Hello.004b4de5-82ed-11ee-9086-38d57a361d64.jpg -> Annotation:D:/Projects/Tensorflow object detection/TFODCourse/Tensorflow/workspace/images/collectedimages/Hello\\Hello.004b4de5-82ed-11ee-9086-38d57a361d64.xml\n",
      "Image:D:\\Projects\\Tensorflow object detection\\TFODCourse\\Tensorflow\\workspace\\images\\collectedimages\\Hello\\Hello.09e6a969-82ed-11ee-a083-38d57a361d64.jpg -> Annotation:D:/Projects/Tensorflow object detection/TFODCourse/Tensorflow/workspace/images/collectedimages/Hello\\Hello.09e6a969-82ed-11ee-a083-38d57a361d64.xml\n",
      "Image:D:\\Projects\\Tensorflow object detection\\TFODCourse\\Tensorflow\\workspace\\images\\collectedimages\\Hello\\Hello.051cea9f-82ed-11ee-826a-38d57a361d64.jpg -> Annotation:D:/Projects/Tensorflow object detection/TFODCourse/Tensorflow/workspace/images/collectedimages/Hello\\Hello.051cea9f-82ed-11ee-826a-38d57a361d64.xml\n",
      "Image:D:\\Projects\\Tensorflow object detection\\TFODCourse\\Tensorflow\\workspace\\images\\collectedimages\\Hello\\Hello.0781e8ce-82ed-11ee-88ef-38d57a361d64.jpg -> Annotation:D:/Projects/Tensorflow object detection/TFODCourse/Tensorflow/workspace/images/collectedimages/Hello\\Hello.0781e8ce-82ed-11ee-88ef-38d57a361d64.xml\n",
      "Image:D:\\Projects\\Tensorflow object detection\\TFODCourse\\Tensorflow\\workspace\\images\\collectedimages\\Hello\\Hello.f6aea8bc-82ec-11ee-92af-38d57a361d64.jpg -> Annotation:D:/Projects/Tensorflow object detection/TFODCourse/Tensorflow/workspace/images/collectedimages/Hello\\Hello.f6aea8bc-82ec-11ee-92af-38d57a361d64.xml\n",
      "Image:D:\\Projects\\Tensorflow object detection\\TFODCourse\\Tensorflow\\workspace\\images\\collectedimages\\Hello\\Hello.f447b6c6-82ec-11ee-91d4-38d57a361d64.jpg -> Annotation:D:/Projects/Tensorflow object detection/TFODCourse/Tensorflow/workspace/images/collectedimages/Hello\\Hello.f447b6c6-82ec-11ee-91d4-38d57a361d64.xml\n",
      "Image:D:\\Projects\\Tensorflow object detection\\TFODCourse\\Tensorflow\\workspace\\images\\collectedimages\\Hello\\Hello.f915fa49-82ec-11ee-a68f-38d57a361d64.jpg -> Annotation:D:/Projects/Tensorflow object detection/TFODCourse/Tensorflow/workspace/images/collectedimages/Hello\\Hello.f915fa49-82ec-11ee-a68f-38d57a361d64.xml\n",
      "Image:D:\\Projects\\Tensorflow object detection\\TFODCourse\\Tensorflow\\workspace\\images\\collectedimages\\Hello\\Hello.fb7ca2c9-82ec-11ee-93f2-38d57a361d64.jpg -> Annotation:D:/Projects/Tensorflow object detection/TFODCourse/Tensorflow/workspace/images/collectedimages/Hello\\Hello.fb7ca2c9-82ec-11ee-93f2-38d57a361d64.xml\n",
      "Image:D:\\Projects\\Tensorflow object detection\\TFODCourse\\Tensorflow\\workspace\\images\\collectedimages\\Hello\\Hello.fde2bb68-82ec-11ee-aa0c-38d57a361d64.jpg -> Annotation:D:/Projects/Tensorflow object detection/TFODCourse/Tensorflow/workspace/images/collectedimages/Hello\\Hello.fde2bb68-82ec-11ee-aa0c-38d57a361d64.xml\n",
      "Image:D:\\Projects\\Tensorflow object detection\\TFODCourse\\Tensorflow\\workspace\\images\\collectedimages\\Thumbsdown\\Thumbsdown.d60cd2cf-82ec-11ee-a0d0-38d57a361d64.jpg -> Annotation:D:/Projects/Tensorflow object detection/TFODCourse/Tensorflow/workspace/images/collectedimages/Thumbsdown\\Thumbsdown.d60cd2cf-82ec-11ee-a0d0-38d57a361d64.xml\n",
      "Image:D:\\Projects\\Tensorflow object detection\\TFODCourse\\Tensorflow\\workspace\\images\\collectedimages\\Thumbsdown\\Thumbsdown.d871c3c1-82ec-11ee-ab7f-38d57a361d64.jpg -> Annotation:D:/Projects/Tensorflow object detection/TFODCourse/Tensorflow/workspace/images/collectedimages/Thumbsdown\\Thumbsdown.d871c3c1-82ec-11ee-ab7f-38d57a361d64.xml\n",
      "Image:D:\\Projects\\Tensorflow object detection\\TFODCourse\\Tensorflow\\workspace\\images\\collectedimages\\Thumbsdown\\Thumbsdown.dad78d46-82ec-11ee-b7cc-38d57a361d64.jpg -> Annotation:D:/Projects/Tensorflow object detection/TFODCourse/Tensorflow/workspace/images/collectedimages/Thumbsdown\\Thumbsdown.dad78d46-82ec-11ee-b7cc-38d57a361d64.xml\n",
      "Image:D:\\Projects\\Tensorflow object detection\\TFODCourse\\Tensorflow\\workspace\\images\\collectedimages\\Thumbsdown\\Thumbsdown.dd4032eb-82ec-11ee-9e71-38d57a361d64.jpg -> Annotation:D:/Projects/Tensorflow object detection/TFODCourse/Tensorflow/workspace/images/collectedimages/Thumbsdown\\Thumbsdown.dd4032eb-82ec-11ee-9e71-38d57a361d64.xml\n",
      "Image:D:\\Projects\\Tensorflow object detection\\TFODCourse\\Tensorflow\\workspace\\images\\collectedimages\\Thumbsdown\\Thumbsdown.dfa6c176-82ec-11ee-85a8-38d57a361d64.jpg -> Annotation:D:/Projects/Tensorflow object detection/TFODCourse/Tensorflow/workspace/images/collectedimages/Thumbsdown\\Thumbsdown.dfa6c176-82ec-11ee-85a8-38d57a361d64.xml\n",
      "Image:D:\\Projects\\Tensorflow object detection\\TFODCourse\\Tensorflow\\workspace\\images\\collectedimages\\Thumbsdown\\Thumbsdown.e6dc0997-82ec-11ee-bcae-38d57a361d64.jpg -> Annotation:D:/Projects/Tensorflow object detection/TFODCourse/Tensorflow/workspace/images/collectedimages/Thumbsdown\\Thumbsdown.e6dc0997-82ec-11ee-bcae-38d57a361d64.xml\n",
      "Image:D:\\Projects\\Tensorflow object detection\\TFODCourse\\Tensorflow\\workspace\\images\\collectedimages\\Thumbsdown\\Thumbsdown.e20dbc23-82ec-11ee-b42b-38d57a361d64.jpg -> Annotation:D:/Projects/Tensorflow object detection/TFODCourse/Tensorflow/workspace/images/collectedimages/Thumbsdown\\Thumbsdown.e20dbc23-82ec-11ee-b42b-38d57a361d64.xml\n",
      "Image:D:\\Projects\\Tensorflow object detection\\TFODCourse\\Tensorflow\\workspace\\images\\collectedimages\\Thumbsdown\\Thumbsdown.e476814d-82ec-11ee-85ad-38d57a361d64.jpg -> Annotation:D:/Projects/Tensorflow object detection/TFODCourse/Tensorflow/workspace/images/collectedimages/Thumbsdown\\Thumbsdown.e476814d-82ec-11ee-85ad-38d57a361d64.xml\n",
      "Image:D:\\Projects\\Tensorflow object detection\\TFODCourse\\Tensorflow\\workspace\\images\\collectedimages\\Thumbsdown\\Thumbsdown.eba5f206-82ec-11ee-8f0b-38d57a361d64.jpg -> Annotation:D:/Projects/Tensorflow object detection/TFODCourse/Tensorflow/workspace/images/collectedimages/Thumbsdown\\Thumbsdown.eba5f206-82ec-11ee-8f0b-38d57a361d64.xml\n",
      "Cancel creation.\n",
      "Image:D:\\Projects\\Tensorflow object detection\\TFODCourse\\Tensorflow\\workspace\\images\\collectedimages\\Thumbsup\\Thumbsup.b7cf3e5a-82ec-11ee-9fe2-38d57a361d64.jpg -> Annotation:D:/Projects/Tensorflow object detection/TFODCourse/Tensorflow/workspace/images/collectedimages/Thumbsup\\Thumbsup.b7cf3e5a-82ec-11ee-9fe2-38d57a361d64.xml\n",
      "Image:D:\\Projects\\Tensorflow object detection\\TFODCourse\\Tensorflow\\workspace\\images\\collectedimages\\Thumbsup\\Thumbsup.ba3b92f7-82ec-11ee-86db-38d57a361d64.jpg -> Annotation:D:/Projects/Tensorflow object detection/TFODCourse/Tensorflow/workspace/images/collectedimages/Thumbsup\\Thumbsup.ba3b92f7-82ec-11ee-86db-38d57a361d64.xml\n",
      "Image:D:\\Projects\\Tensorflow object detection\\TFODCourse\\Tensorflow\\workspace\\images\\collectedimages\\Thumbsup\\Thumbsup.bca33e88-82ec-11ee-aa0e-38d57a361d64.jpg -> Annotation:D:/Projects/Tensorflow object detection/TFODCourse/Tensorflow/workspace/images/collectedimages/Thumbsup\\Thumbsup.bca33e88-82ec-11ee-aa0e-38d57a361d64.xml\n",
      "Image:D:\\Projects\\Tensorflow object detection\\TFODCourse\\Tensorflow\\workspace\\images\\collectedimages\\Thumbsup\\Thumbsup.bf0cf275-82ec-11ee-8339-38d57a361d64.jpg -> Annotation:D:/Projects/Tensorflow object detection/TFODCourse/Tensorflow/workspace/images/collectedimages/Thumbsup\\Thumbsup.bf0cf275-82ec-11ee-8339-38d57a361d64.xml\n",
      "Image:D:\\Projects\\Tensorflow object detection\\TFODCourse\\Tensorflow\\workspace\\images\\collectedimages\\Thumbsup\\Thumbsup.c3dd93fa-82ec-11ee-9d73-38d57a361d64.jpg -> Annotation:D:/Projects/Tensorflow object detection/TFODCourse/Tensorflow/workspace/images/collectedimages/Thumbsup\\Thumbsup.c3dd93fa-82ec-11ee-9d73-38d57a361d64.xml\n",
      "Image:D:\\Projects\\Tensorflow object detection\\TFODCourse\\Tensorflow\\workspace\\images\\collectedimages\\Thumbsup\\Thumbsup.c8a7b817-82ec-11ee-8f7e-38d57a361d64.jpg -> Annotation:D:/Projects/Tensorflow object detection/TFODCourse/Tensorflow/workspace/images/collectedimages/Thumbsup\\Thumbsup.c8a7b817-82ec-11ee-8f7e-38d57a361d64.xml\n",
      "Image:D:\\Projects\\Tensorflow object detection\\TFODCourse\\Tensorflow\\workspace\\images\\collectedimages\\Thumbsup\\Thumbsup.c17593f0-82ec-11ee-a77e-38d57a361d64.jpg -> Annotation:D:/Projects/Tensorflow object detection/TFODCourse/Tensorflow/workspace/images/collectedimages/Thumbsup\\Thumbsup.c17593f0-82ec-11ee-a77e-38d57a361d64.xml\n",
      "Image:D:\\Projects\\Tensorflow object detection\\TFODCourse\\Tensorflow\\workspace\\images\\collectedimages\\Thumbsup\\Thumbsup.c6433297-82ec-11ee-b2e0-38d57a361d64.jpg -> Annotation:D:/Projects/Tensorflow object detection/TFODCourse/Tensorflow/workspace/images/collectedimages/Thumbsup\\Thumbsup.c6433297-82ec-11ee-b2e0-38d57a361d64.xml\n",
      "Image:D:\\Projects\\Tensorflow object detection\\TFODCourse\\Tensorflow\\workspace\\images\\collectedimages\\Thumbsup\\Thumbsup.cb0d00f3-82ec-11ee-8f7a-38d57a361d64.jpg -> Annotation:D:/Projects/Tensorflow object detection/TFODCourse/Tensorflow/workspace/images/collectedimages/Thumbsup\\Thumbsup.cb0d00f3-82ec-11ee-8f7a-38d57a361d64.xml\n"
     ]
    }
   ],
   "source": [
    "!cd {LABELING_PATH} && python labelIng.py"
   ]
  },
  {
   "cell_type": "markdown",
   "metadata": {},
   "source": [
    "# 6. Move them into a Training and Testing Partition"
   ]
  },
  {
   "cell_type": "markdown",
   "metadata": {},
   "source": [
    "# OPTIONAL - 7. Compress them for Colab Training"
   ]
  },
  {
   "cell_type": "code",
   "execution_count": 20,
   "metadata": {},
   "outputs": [],
   "source": [
    "TRAIN_PATH = os.path.join('Tensorflow', 'workspace', 'images', 'train')\n",
    "TEST_PATH = os.path.join('Tensorflow', 'workspace', 'images', 'test')\n",
    "ARCHIVE_PATH = os.path.join('Tensorflow', 'workspace', 'images', 'archive.tar.gz')"
   ]
  },
  {
   "cell_type": "code",
   "execution_count": 21,
   "metadata": {},
   "outputs": [],
   "source": [
    "!tar -czf {ARCHIVE_PATH} {TRAIN_PATH} {TEST_PATH}"
   ]
  },
  {
   "cell_type": "code",
   "execution_count": null,
   "metadata": {},
   "outputs": [],
   "source": []
  }
 ],
 "metadata": {
  "kernelspec": {
   "display_name": "object_detection",
   "language": "python",
   "name": "object_detection"
  },
  "language_info": {
   "codemirror_mode": {
    "name": "ipython",
    "version": 3
   },
   "file_extension": ".py",
   "mimetype": "text/x-python",
   "name": "python",
   "nbconvert_exporter": "python",
   "pygments_lexer": "ipython3",
   "version": "3.10.6"
  }
 },
 "nbformat": 4,
 "nbformat_minor": 4
}
